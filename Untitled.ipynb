{
 "cells": [
  {
   "cell_type": "code",
   "execution_count": 1,
   "id": "4a9f6240-3f5e-4775-90e3-4f0b3a2d5da2",
   "metadata": {},
   "outputs": [],
   "source": [
    "import pandas as pd\n",
    "import seaborn as sns\n",
    "import numpy as np\n",
    "import matplotlib.pyplot as plt"
   ]
  },
  {
   "cell_type": "code",
   "execution_count": 4,
   "id": "779efb2d-231a-4f13-8c81-8199d6f17638",
   "metadata": {},
   "outputs": [
    {
     "data": {
      "text/html": [
       "<svg  width=\"330\" height=\"55\"><rect x=\"0\" y=\"0\" width=\"55\" height=\"55\" style=\"fill:#55aa99;stroke-width:2;stroke:rgb(255,255,255)\"/><rect x=\"55\" y=\"0\" width=\"55\" height=\"55\" style=\"fill:#4b9082;stroke-width:2;stroke:rgb(255,255,255)\"/><rect x=\"110\" y=\"0\" width=\"55\" height=\"55\" style=\"fill:#41756b;stroke-width:2;stroke:rgb(255,255,255)\"/><rect x=\"165\" y=\"0\" width=\"55\" height=\"55\" style=\"fill:#375b54;stroke-width:2;stroke:rgb(255,255,255)\"/><rect x=\"220\" y=\"0\" width=\"55\" height=\"55\" style=\"fill:#2d413d;stroke-width:2;stroke:rgb(255,255,255)\"/><rect x=\"275\" y=\"0\" width=\"55\" height=\"55\" style=\"fill:#232626;stroke-width:2;stroke:rgb(255,255,255)\"/></svg>"
      ],
      "text/plain": [
       "[(0.3333333333333333, 0.6666666666666666, 0.6),\n",
       " (0.2942864124040944, 0.5634335033836648, 0.5094518193763984),\n",
       " (0.2552394914748555, 0.46020034010066313, 0.41890363875279674),\n",
       " (0.2161925705456166, 0.3569671768176614, 0.32835545812919514),\n",
       " (0.1771456496163777, 0.2537340135346596, 0.2378072775055935),\n",
       " (0.1380987286871388, 0.1505008502516578, 0.14725909688199193)]"
      ]
     },
     "execution_count": 4,
     "metadata": {},
     "output_type": "execute_result"
    }
   ],
   "source": [
    "sns.set_theme(style=\"darkgrid\", palette=\"dark:#5A9_r\")\n",
    "sns.color_palette(\"dark:#5A9_r\")"
   ]
  },
  {
   "cell_type": "code",
   "execution_count": 3,
   "id": "bdc124fa-57a8-49ba-a680-c561cc390bd3",
   "metadata": {},
   "outputs": [],
   "source": [
    "data_set = pd.read_excel('SAMPLE DATA UPWORK.xlsx')\n",
    "list_of_groups = []\n",
    "grouped = data_set.groupby('Horse ID')\n",
    "for name, group in grouped:\n",
    "    list_of_groups.append(group)"
   ]
  },
  {
   "cell_type": "code",
   "execution_count": null,
   "id": "74f586b2-6daf-489c-b5bb-0ad335d58800",
   "metadata": {},
   "outputs": [],
   "source": []
  }
 ],
 "metadata": {
  "kernelspec": {
   "display_name": "Python 3 (ipykernel)",
   "language": "python",
   "name": "python3"
  },
  "language_info": {
   "codemirror_mode": {
    "name": "ipython",
    "version": 3
   },
   "file_extension": ".py",
   "mimetype": "text/x-python",
   "name": "python",
   "nbconvert_exporter": "python",
   "pygments_lexer": "ipython3",
   "version": "3.11.4"
  }
 },
 "nbformat": 4,
 "nbformat_minor": 5
}
